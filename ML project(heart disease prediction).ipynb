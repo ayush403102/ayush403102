{
  "nbformat": 4,
  "nbformat_minor": 0,
  "metadata": {
    "colab": {
      "name": "project.ipynb",
      "provenance": [],
      "collapsed_sections": []
    },
    "kernelspec": {
      "name": "python3",
      "display_name": "Python 3"
    },
    "language_info": {
      "name": "python"
    }
  },
  "cells": [
    {
      "cell_type": "markdown",
      "source": [
        "#**Heart Disease Prediction**"
      ],
      "metadata": {
        "id": "dIA11eBuCXhi"
      }
    },
    {
      "cell_type": "markdown",
      "source": [
        "**Objective**"
      ],
      "metadata": {
        "id": "4jXnJEfADcu-"
      }
    },
    {
      "cell_type": "markdown",
      "source": [
        "It is difficult to manually determine the odds of getting heart disease based on risk factors. However, machine learning techniques are useful to predict the output from existing data.\n",
        " "
      ],
      "metadata": {
        "id": "abGMtNz5Dk4r"
      }
    },
    {
      "cell_type": "markdown",
      "source": [
        "So here is the heart disease prediction model based upon the Cleveland Heart Disease dataset taken from the UCI repository.\n",
        "The objective of the model is to predict that if the person have any heart related disease based upon 14 attributes on which model is based."
      ],
      "metadata": {
        "id": "O2RGp6FiFhKt"
      }
    },
    {
      "cell_type": "markdown",
      "source": [
        "**Data Source**"
      ],
      "metadata": {
        "id": "qOsCQODUFunL"
      }
    },
    {
      "cell_type": "markdown",
      "source": [
        "Here, in this project Data set is obtained from a website named www.Kaggle.com\n"
      ],
      "metadata": {
        "id": "jUYWIZdjF0WJ"
      }
    },
    {
      "cell_type": "markdown",
      "source": [
        "Data can be obtained from the link :-\n"
      ],
      "metadata": {
        "id": "orHkwUNeG_Sa"
      }
    },
    {
      "cell_type": "markdown",
      "source": [
        "https://www.kaggle.com/ronitf/heart-disease-uci\n",
        "Please Download the data before using the model"
      ],
      "metadata": {
        "id": "mr5mWIKhHGJU"
      }
    },
    {
      "cell_type": "markdown",
      "source": [
        "**Import Library**"
      ],
      "metadata": {
        "id": "AbBI_02wHsXb"
      }
    },
    {
      "cell_type": "code",
      "source": [
        "import pandas as pd"
      ],
      "metadata": {
        "id": "_x8j6SF5DSgw"
      },
      "execution_count": null,
      "outputs": []
    },
    {
      "cell_type": "code",
      "source": [
        "import numpy as np"
      ],
      "metadata": {
        "id": "ZtVyB5F07F7l"
      },
      "execution_count": null,
      "outputs": []
    },
    {
      "cell_type": "markdown",
      "source": [
        "**Import Data**"
      ],
      "metadata": {
        "id": "koa-R8zAHxB_"
      }
    },
    {
      "cell_type": "code",
      "source": [
        "df = pd.read_csv(r'/content/heart.csv')"
      ],
      "metadata": {
        "id": "UG10U1YJ7ItL"
      },
      "execution_count": null,
      "outputs": []
    },
    {
      "cell_type": "markdown",
      "source": [
        "**Describe Data**"
      ],
      "metadata": {
        "id": "F75b0LsGH6Yy"
      }
    },
    {
      "cell_type": "code",
      "source": [
        "df.describe()"
      ],
      "metadata": {
        "colab": {
          "base_uri": "https://localhost:8080/",
          "height": 364
        },
        "id": "B20C5oOi7MUh",
        "outputId": "14261ad5-1655-4be4-8b6f-f8d5e60760cb"
      },
      "execution_count": null,
      "outputs": [
        {
          "output_type": "execute_result",
          "data": {
            "text/html": [
              "\n",
              "  <div id=\"df-dddc40b1-8656-412a-8696-c60dc7c0f422\">\n",
              "    <div class=\"colab-df-container\">\n",
              "      <div>\n",
              "<style scoped>\n",
              "    .dataframe tbody tr th:only-of-type {\n",
              "        vertical-align: middle;\n",
              "    }\n",
              "\n",
              "    .dataframe tbody tr th {\n",
              "        vertical-align: top;\n",
              "    }\n",
              "\n",
              "    .dataframe thead th {\n",
              "        text-align: right;\n",
              "    }\n",
              "</style>\n",
              "<table border=\"1\" class=\"dataframe\">\n",
              "  <thead>\n",
              "    <tr style=\"text-align: right;\">\n",
              "      <th></th>\n",
              "      <th>age</th>\n",
              "      <th>sex</th>\n",
              "      <th>cp</th>\n",
              "      <th>trestbps</th>\n",
              "      <th>chol</th>\n",
              "      <th>fbs</th>\n",
              "      <th>restecg</th>\n",
              "      <th>thalach</th>\n",
              "      <th>exang</th>\n",
              "      <th>oldpeak</th>\n",
              "      <th>slope</th>\n",
              "      <th>ca</th>\n",
              "      <th>thal</th>\n",
              "      <th>target</th>\n",
              "    </tr>\n",
              "  </thead>\n",
              "  <tbody>\n",
              "    <tr>\n",
              "      <th>count</th>\n",
              "      <td>303.000000</td>\n",
              "      <td>303.000000</td>\n",
              "      <td>303.000000</td>\n",
              "      <td>303.000000</td>\n",
              "      <td>303.000000</td>\n",
              "      <td>303.000000</td>\n",
              "      <td>303.000000</td>\n",
              "      <td>303.000000</td>\n",
              "      <td>303.000000</td>\n",
              "      <td>303.000000</td>\n",
              "      <td>303.000000</td>\n",
              "      <td>303.000000</td>\n",
              "      <td>303.000000</td>\n",
              "      <td>303.000000</td>\n",
              "    </tr>\n",
              "    <tr>\n",
              "      <th>mean</th>\n",
              "      <td>54.366337</td>\n",
              "      <td>0.683168</td>\n",
              "      <td>0.966997</td>\n",
              "      <td>131.623762</td>\n",
              "      <td>246.264026</td>\n",
              "      <td>0.148515</td>\n",
              "      <td>0.528053</td>\n",
              "      <td>149.646865</td>\n",
              "      <td>0.326733</td>\n",
              "      <td>1.039604</td>\n",
              "      <td>1.399340</td>\n",
              "      <td>0.729373</td>\n",
              "      <td>2.313531</td>\n",
              "      <td>0.544554</td>\n",
              "    </tr>\n",
              "    <tr>\n",
              "      <th>std</th>\n",
              "      <td>9.082101</td>\n",
              "      <td>0.466011</td>\n",
              "      <td>1.032052</td>\n",
              "      <td>17.538143</td>\n",
              "      <td>51.830751</td>\n",
              "      <td>0.356198</td>\n",
              "      <td>0.525860</td>\n",
              "      <td>22.905161</td>\n",
              "      <td>0.469794</td>\n",
              "      <td>1.161075</td>\n",
              "      <td>0.616226</td>\n",
              "      <td>1.022606</td>\n",
              "      <td>0.612277</td>\n",
              "      <td>0.498835</td>\n",
              "    </tr>\n",
              "    <tr>\n",
              "      <th>min</th>\n",
              "      <td>29.000000</td>\n",
              "      <td>0.000000</td>\n",
              "      <td>0.000000</td>\n",
              "      <td>94.000000</td>\n",
              "      <td>126.000000</td>\n",
              "      <td>0.000000</td>\n",
              "      <td>0.000000</td>\n",
              "      <td>71.000000</td>\n",
              "      <td>0.000000</td>\n",
              "      <td>0.000000</td>\n",
              "      <td>0.000000</td>\n",
              "      <td>0.000000</td>\n",
              "      <td>0.000000</td>\n",
              "      <td>0.000000</td>\n",
              "    </tr>\n",
              "    <tr>\n",
              "      <th>25%</th>\n",
              "      <td>47.500000</td>\n",
              "      <td>0.000000</td>\n",
              "      <td>0.000000</td>\n",
              "      <td>120.000000</td>\n",
              "      <td>211.000000</td>\n",
              "      <td>0.000000</td>\n",
              "      <td>0.000000</td>\n",
              "      <td>133.500000</td>\n",
              "      <td>0.000000</td>\n",
              "      <td>0.000000</td>\n",
              "      <td>1.000000</td>\n",
              "      <td>0.000000</td>\n",
              "      <td>2.000000</td>\n",
              "      <td>0.000000</td>\n",
              "    </tr>\n",
              "    <tr>\n",
              "      <th>50%</th>\n",
              "      <td>55.000000</td>\n",
              "      <td>1.000000</td>\n",
              "      <td>1.000000</td>\n",
              "      <td>130.000000</td>\n",
              "      <td>240.000000</td>\n",
              "      <td>0.000000</td>\n",
              "      <td>1.000000</td>\n",
              "      <td>153.000000</td>\n",
              "      <td>0.000000</td>\n",
              "      <td>0.800000</td>\n",
              "      <td>1.000000</td>\n",
              "      <td>0.000000</td>\n",
              "      <td>2.000000</td>\n",
              "      <td>1.000000</td>\n",
              "    </tr>\n",
              "    <tr>\n",
              "      <th>75%</th>\n",
              "      <td>61.000000</td>\n",
              "      <td>1.000000</td>\n",
              "      <td>2.000000</td>\n",
              "      <td>140.000000</td>\n",
              "      <td>274.500000</td>\n",
              "      <td>0.000000</td>\n",
              "      <td>1.000000</td>\n",
              "      <td>166.000000</td>\n",
              "      <td>1.000000</td>\n",
              "      <td>1.600000</td>\n",
              "      <td>2.000000</td>\n",
              "      <td>1.000000</td>\n",
              "      <td>3.000000</td>\n",
              "      <td>1.000000</td>\n",
              "    </tr>\n",
              "    <tr>\n",
              "      <th>max</th>\n",
              "      <td>77.000000</td>\n",
              "      <td>1.000000</td>\n",
              "      <td>3.000000</td>\n",
              "      <td>200.000000</td>\n",
              "      <td>564.000000</td>\n",
              "      <td>1.000000</td>\n",
              "      <td>2.000000</td>\n",
              "      <td>202.000000</td>\n",
              "      <td>1.000000</td>\n",
              "      <td>6.200000</td>\n",
              "      <td>2.000000</td>\n",
              "      <td>4.000000</td>\n",
              "      <td>3.000000</td>\n",
              "      <td>1.000000</td>\n",
              "    </tr>\n",
              "  </tbody>\n",
              "</table>\n",
              "</div>\n",
              "      <button class=\"colab-df-convert\" onclick=\"convertToInteractive('df-dddc40b1-8656-412a-8696-c60dc7c0f422')\"\n",
              "              title=\"Convert this dataframe to an interactive table.\"\n",
              "              style=\"display:none;\">\n",
              "        \n",
              "  <svg xmlns=\"http://www.w3.org/2000/svg\" height=\"24px\"viewBox=\"0 0 24 24\"\n",
              "       width=\"24px\">\n",
              "    <path d=\"M0 0h24v24H0V0z\" fill=\"none\"/>\n",
              "    <path d=\"M18.56 5.44l.94 2.06.94-2.06 2.06-.94-2.06-.94-.94-2.06-.94 2.06-2.06.94zm-11 1L8.5 8.5l.94-2.06 2.06-.94-2.06-.94L8.5 2.5l-.94 2.06-2.06.94zm10 10l.94 2.06.94-2.06 2.06-.94-2.06-.94-.94-2.06-.94 2.06-2.06.94z\"/><path d=\"M17.41 7.96l-1.37-1.37c-.4-.4-.92-.59-1.43-.59-.52 0-1.04.2-1.43.59L10.3 9.45l-7.72 7.72c-.78.78-.78 2.05 0 2.83L4 21.41c.39.39.9.59 1.41.59.51 0 1.02-.2 1.41-.59l7.78-7.78 2.81-2.81c.8-.78.8-2.07 0-2.86zM5.41 20L4 18.59l7.72-7.72 1.47 1.35L5.41 20z\"/>\n",
              "  </svg>\n",
              "      </button>\n",
              "      \n",
              "  <style>\n",
              "    .colab-df-container {\n",
              "      display:flex;\n",
              "      flex-wrap:wrap;\n",
              "      gap: 12px;\n",
              "    }\n",
              "\n",
              "    .colab-df-convert {\n",
              "      background-color: #E8F0FE;\n",
              "      border: none;\n",
              "      border-radius: 50%;\n",
              "      cursor: pointer;\n",
              "      display: none;\n",
              "      fill: #1967D2;\n",
              "      height: 32px;\n",
              "      padding: 0 0 0 0;\n",
              "      width: 32px;\n",
              "    }\n",
              "\n",
              "    .colab-df-convert:hover {\n",
              "      background-color: #E2EBFA;\n",
              "      box-shadow: 0px 1px 2px rgba(60, 64, 67, 0.3), 0px 1px 3px 1px rgba(60, 64, 67, 0.15);\n",
              "      fill: #174EA6;\n",
              "    }\n",
              "\n",
              "    [theme=dark] .colab-df-convert {\n",
              "      background-color: #3B4455;\n",
              "      fill: #D2E3FC;\n",
              "    }\n",
              "\n",
              "    [theme=dark] .colab-df-convert:hover {\n",
              "      background-color: #434B5C;\n",
              "      box-shadow: 0px 1px 3px 1px rgba(0, 0, 0, 0.15);\n",
              "      filter: drop-shadow(0px 1px 2px rgba(0, 0, 0, 0.3));\n",
              "      fill: #FFFFFF;\n",
              "    }\n",
              "  </style>\n",
              "\n",
              "      <script>\n",
              "        const buttonEl =\n",
              "          document.querySelector('#df-dddc40b1-8656-412a-8696-c60dc7c0f422 button.colab-df-convert');\n",
              "        buttonEl.style.display =\n",
              "          google.colab.kernel.accessAllowed ? 'block' : 'none';\n",
              "\n",
              "        async function convertToInteractive(key) {\n",
              "          const element = document.querySelector('#df-dddc40b1-8656-412a-8696-c60dc7c0f422');\n",
              "          const dataTable =\n",
              "            await google.colab.kernel.invokeFunction('convertToInteractive',\n",
              "                                                     [key], {});\n",
              "          if (!dataTable) return;\n",
              "\n",
              "          const docLinkHtml = 'Like what you see? Visit the ' +\n",
              "            '<a target=\"_blank\" href=https://colab.research.google.com/notebooks/data_table.ipynb>data table notebook</a>'\n",
              "            + ' to learn more about interactive tables.';\n",
              "          element.innerHTML = '';\n",
              "          dataTable['output_type'] = 'display_data';\n",
              "          await google.colab.output.renderOutput(dataTable, element);\n",
              "          const docLink = document.createElement('div');\n",
              "          docLink.innerHTML = docLinkHtml;\n",
              "          element.appendChild(docLink);\n",
              "        }\n",
              "      </script>\n",
              "    </div>\n",
              "  </div>\n",
              "  "
            ],
            "text/plain": [
              "              age         sex          cp  ...          ca        thal      target\n",
              "count  303.000000  303.000000  303.000000  ...  303.000000  303.000000  303.000000\n",
              "mean    54.366337    0.683168    0.966997  ...    0.729373    2.313531    0.544554\n",
              "std      9.082101    0.466011    1.032052  ...    1.022606    0.612277    0.498835\n",
              "min     29.000000    0.000000    0.000000  ...    0.000000    0.000000    0.000000\n",
              "25%     47.500000    0.000000    0.000000  ...    0.000000    2.000000    0.000000\n",
              "50%     55.000000    1.000000    1.000000  ...    0.000000    2.000000    1.000000\n",
              "75%     61.000000    1.000000    2.000000  ...    1.000000    3.000000    1.000000\n",
              "max     77.000000    1.000000    3.000000  ...    4.000000    3.000000    1.000000\n",
              "\n",
              "[8 rows x 14 columns]"
            ]
          },
          "metadata": {},
          "execution_count": 112
        }
      ]
    },
    {
      "cell_type": "markdown",
      "source": [
        "**Data Visualization**"
      ],
      "metadata": {
        "id": "OlqffNYJICeu"
      }
    },
    {
      "cell_type": "code",
      "source": [
        "df"
      ],
      "metadata": {
        "colab": {
          "base_uri": "https://localhost:8080/",
          "height": 487
        },
        "id": "zp6w1FTaH_a_",
        "outputId": "60ff81d1-b26b-4453-a2de-3f0a31f4011a"
      },
      "execution_count": null,
      "outputs": [
        {
          "output_type": "execute_result",
          "data": {
            "text/html": [
              "\n",
              "  <div id=\"df-bb9db3fa-dd4e-4b74-a745-19b5286b5dc7\">\n",
              "    <div class=\"colab-df-container\">\n",
              "      <div>\n",
              "<style scoped>\n",
              "    .dataframe tbody tr th:only-of-type {\n",
              "        vertical-align: middle;\n",
              "    }\n",
              "\n",
              "    .dataframe tbody tr th {\n",
              "        vertical-align: top;\n",
              "    }\n",
              "\n",
              "    .dataframe thead th {\n",
              "        text-align: right;\n",
              "    }\n",
              "</style>\n",
              "<table border=\"1\" class=\"dataframe\">\n",
              "  <thead>\n",
              "    <tr style=\"text-align: right;\">\n",
              "      <th></th>\n",
              "      <th>age</th>\n",
              "      <th>sex</th>\n",
              "      <th>cp</th>\n",
              "      <th>trestbps</th>\n",
              "      <th>chol</th>\n",
              "      <th>fbs</th>\n",
              "      <th>restecg</th>\n",
              "      <th>thalach</th>\n",
              "      <th>exang</th>\n",
              "      <th>oldpeak</th>\n",
              "      <th>slope</th>\n",
              "      <th>ca</th>\n",
              "      <th>thal</th>\n",
              "      <th>target</th>\n",
              "    </tr>\n",
              "  </thead>\n",
              "  <tbody>\n",
              "    <tr>\n",
              "      <th>0</th>\n",
              "      <td>63</td>\n",
              "      <td>1</td>\n",
              "      <td>3</td>\n",
              "      <td>145</td>\n",
              "      <td>233</td>\n",
              "      <td>1</td>\n",
              "      <td>0</td>\n",
              "      <td>150</td>\n",
              "      <td>0</td>\n",
              "      <td>2.3</td>\n",
              "      <td>0</td>\n",
              "      <td>0</td>\n",
              "      <td>1</td>\n",
              "      <td>1</td>\n",
              "    </tr>\n",
              "    <tr>\n",
              "      <th>1</th>\n",
              "      <td>37</td>\n",
              "      <td>1</td>\n",
              "      <td>2</td>\n",
              "      <td>130</td>\n",
              "      <td>250</td>\n",
              "      <td>0</td>\n",
              "      <td>1</td>\n",
              "      <td>187</td>\n",
              "      <td>0</td>\n",
              "      <td>3.5</td>\n",
              "      <td>0</td>\n",
              "      <td>0</td>\n",
              "      <td>2</td>\n",
              "      <td>1</td>\n",
              "    </tr>\n",
              "    <tr>\n",
              "      <th>2</th>\n",
              "      <td>41</td>\n",
              "      <td>0</td>\n",
              "      <td>1</td>\n",
              "      <td>130</td>\n",
              "      <td>204</td>\n",
              "      <td>0</td>\n",
              "      <td>0</td>\n",
              "      <td>172</td>\n",
              "      <td>0</td>\n",
              "      <td>1.4</td>\n",
              "      <td>2</td>\n",
              "      <td>0</td>\n",
              "      <td>2</td>\n",
              "      <td>1</td>\n",
              "    </tr>\n",
              "    <tr>\n",
              "      <th>3</th>\n",
              "      <td>56</td>\n",
              "      <td>1</td>\n",
              "      <td>1</td>\n",
              "      <td>120</td>\n",
              "      <td>236</td>\n",
              "      <td>0</td>\n",
              "      <td>1</td>\n",
              "      <td>178</td>\n",
              "      <td>0</td>\n",
              "      <td>0.8</td>\n",
              "      <td>2</td>\n",
              "      <td>0</td>\n",
              "      <td>2</td>\n",
              "      <td>1</td>\n",
              "    </tr>\n",
              "    <tr>\n",
              "      <th>4</th>\n",
              "      <td>57</td>\n",
              "      <td>0</td>\n",
              "      <td>0</td>\n",
              "      <td>120</td>\n",
              "      <td>354</td>\n",
              "      <td>0</td>\n",
              "      <td>1</td>\n",
              "      <td>163</td>\n",
              "      <td>1</td>\n",
              "      <td>0.6</td>\n",
              "      <td>2</td>\n",
              "      <td>0</td>\n",
              "      <td>2</td>\n",
              "      <td>1</td>\n",
              "    </tr>\n",
              "    <tr>\n",
              "      <th>...</th>\n",
              "      <td>...</td>\n",
              "      <td>...</td>\n",
              "      <td>...</td>\n",
              "      <td>...</td>\n",
              "      <td>...</td>\n",
              "      <td>...</td>\n",
              "      <td>...</td>\n",
              "      <td>...</td>\n",
              "      <td>...</td>\n",
              "      <td>...</td>\n",
              "      <td>...</td>\n",
              "      <td>...</td>\n",
              "      <td>...</td>\n",
              "      <td>...</td>\n",
              "    </tr>\n",
              "    <tr>\n",
              "      <th>298</th>\n",
              "      <td>57</td>\n",
              "      <td>0</td>\n",
              "      <td>0</td>\n",
              "      <td>140</td>\n",
              "      <td>241</td>\n",
              "      <td>0</td>\n",
              "      <td>1</td>\n",
              "      <td>123</td>\n",
              "      <td>1</td>\n",
              "      <td>0.2</td>\n",
              "      <td>1</td>\n",
              "      <td>0</td>\n",
              "      <td>3</td>\n",
              "      <td>0</td>\n",
              "    </tr>\n",
              "    <tr>\n",
              "      <th>299</th>\n",
              "      <td>45</td>\n",
              "      <td>1</td>\n",
              "      <td>3</td>\n",
              "      <td>110</td>\n",
              "      <td>264</td>\n",
              "      <td>0</td>\n",
              "      <td>1</td>\n",
              "      <td>132</td>\n",
              "      <td>0</td>\n",
              "      <td>1.2</td>\n",
              "      <td>1</td>\n",
              "      <td>0</td>\n",
              "      <td>3</td>\n",
              "      <td>0</td>\n",
              "    </tr>\n",
              "    <tr>\n",
              "      <th>300</th>\n",
              "      <td>68</td>\n",
              "      <td>1</td>\n",
              "      <td>0</td>\n",
              "      <td>144</td>\n",
              "      <td>193</td>\n",
              "      <td>1</td>\n",
              "      <td>1</td>\n",
              "      <td>141</td>\n",
              "      <td>0</td>\n",
              "      <td>3.4</td>\n",
              "      <td>1</td>\n",
              "      <td>2</td>\n",
              "      <td>3</td>\n",
              "      <td>0</td>\n",
              "    </tr>\n",
              "    <tr>\n",
              "      <th>301</th>\n",
              "      <td>57</td>\n",
              "      <td>1</td>\n",
              "      <td>0</td>\n",
              "      <td>130</td>\n",
              "      <td>131</td>\n",
              "      <td>0</td>\n",
              "      <td>1</td>\n",
              "      <td>115</td>\n",
              "      <td>1</td>\n",
              "      <td>1.2</td>\n",
              "      <td>1</td>\n",
              "      <td>1</td>\n",
              "      <td>3</td>\n",
              "      <td>0</td>\n",
              "    </tr>\n",
              "    <tr>\n",
              "      <th>302</th>\n",
              "      <td>57</td>\n",
              "      <td>0</td>\n",
              "      <td>1</td>\n",
              "      <td>130</td>\n",
              "      <td>236</td>\n",
              "      <td>0</td>\n",
              "      <td>0</td>\n",
              "      <td>174</td>\n",
              "      <td>0</td>\n",
              "      <td>0.0</td>\n",
              "      <td>1</td>\n",
              "      <td>1</td>\n",
              "      <td>2</td>\n",
              "      <td>0</td>\n",
              "    </tr>\n",
              "  </tbody>\n",
              "</table>\n",
              "<p>303 rows × 14 columns</p>\n",
              "</div>\n",
              "      <button class=\"colab-df-convert\" onclick=\"convertToInteractive('df-bb9db3fa-dd4e-4b74-a745-19b5286b5dc7')\"\n",
              "              title=\"Convert this dataframe to an interactive table.\"\n",
              "              style=\"display:none;\">\n",
              "        \n",
              "  <svg xmlns=\"http://www.w3.org/2000/svg\" height=\"24px\"viewBox=\"0 0 24 24\"\n",
              "       width=\"24px\">\n",
              "    <path d=\"M0 0h24v24H0V0z\" fill=\"none\"/>\n",
              "    <path d=\"M18.56 5.44l.94 2.06.94-2.06 2.06-.94-2.06-.94-.94-2.06-.94 2.06-2.06.94zm-11 1L8.5 8.5l.94-2.06 2.06-.94-2.06-.94L8.5 2.5l-.94 2.06-2.06.94zm10 10l.94 2.06.94-2.06 2.06-.94-2.06-.94-.94-2.06-.94 2.06-2.06.94z\"/><path d=\"M17.41 7.96l-1.37-1.37c-.4-.4-.92-.59-1.43-.59-.52 0-1.04.2-1.43.59L10.3 9.45l-7.72 7.72c-.78.78-.78 2.05 0 2.83L4 21.41c.39.39.9.59 1.41.59.51 0 1.02-.2 1.41-.59l7.78-7.78 2.81-2.81c.8-.78.8-2.07 0-2.86zM5.41 20L4 18.59l7.72-7.72 1.47 1.35L5.41 20z\"/>\n",
              "  </svg>\n",
              "      </button>\n",
              "      \n",
              "  <style>\n",
              "    .colab-df-container {\n",
              "      display:flex;\n",
              "      flex-wrap:wrap;\n",
              "      gap: 12px;\n",
              "    }\n",
              "\n",
              "    .colab-df-convert {\n",
              "      background-color: #E8F0FE;\n",
              "      border: none;\n",
              "      border-radius: 50%;\n",
              "      cursor: pointer;\n",
              "      display: none;\n",
              "      fill: #1967D2;\n",
              "      height: 32px;\n",
              "      padding: 0 0 0 0;\n",
              "      width: 32px;\n",
              "    }\n",
              "\n",
              "    .colab-df-convert:hover {\n",
              "      background-color: #E2EBFA;\n",
              "      box-shadow: 0px 1px 2px rgba(60, 64, 67, 0.3), 0px 1px 3px 1px rgba(60, 64, 67, 0.15);\n",
              "      fill: #174EA6;\n",
              "    }\n",
              "\n",
              "    [theme=dark] .colab-df-convert {\n",
              "      background-color: #3B4455;\n",
              "      fill: #D2E3FC;\n",
              "    }\n",
              "\n",
              "    [theme=dark] .colab-df-convert:hover {\n",
              "      background-color: #434B5C;\n",
              "      box-shadow: 0px 1px 3px 1px rgba(0, 0, 0, 0.15);\n",
              "      filter: drop-shadow(0px 1px 2px rgba(0, 0, 0, 0.3));\n",
              "      fill: #FFFFFF;\n",
              "    }\n",
              "  </style>\n",
              "\n",
              "      <script>\n",
              "        const buttonEl =\n",
              "          document.querySelector('#df-bb9db3fa-dd4e-4b74-a745-19b5286b5dc7 button.colab-df-convert');\n",
              "        buttonEl.style.display =\n",
              "          google.colab.kernel.accessAllowed ? 'block' : 'none';\n",
              "\n",
              "        async function convertToInteractive(key) {\n",
              "          const element = document.querySelector('#df-bb9db3fa-dd4e-4b74-a745-19b5286b5dc7');\n",
              "          const dataTable =\n",
              "            await google.colab.kernel.invokeFunction('convertToInteractive',\n",
              "                                                     [key], {});\n",
              "          if (!dataTable) return;\n",
              "\n",
              "          const docLinkHtml = 'Like what you see? Visit the ' +\n",
              "            '<a target=\"_blank\" href=https://colab.research.google.com/notebooks/data_table.ipynb>data table notebook</a>'\n",
              "            + ' to learn more about interactive tables.';\n",
              "          element.innerHTML = '';\n",
              "          dataTable['output_type'] = 'display_data';\n",
              "          await google.colab.output.renderOutput(dataTable, element);\n",
              "          const docLink = document.createElement('div');\n",
              "          docLink.innerHTML = docLinkHtml;\n",
              "          element.appendChild(docLink);\n",
              "        }\n",
              "      </script>\n",
              "    </div>\n",
              "  </div>\n",
              "  "
            ],
            "text/plain": [
              "     age  sex  cp  trestbps  chol  fbs  ...  exang  oldpeak  slope  ca  thal  target\n",
              "0     63    1   3       145   233    1  ...      0      2.3      0   0     1       1\n",
              "1     37    1   2       130   250    0  ...      0      3.5      0   0     2       1\n",
              "2     41    0   1       130   204    0  ...      0      1.4      2   0     2       1\n",
              "3     56    1   1       120   236    0  ...      0      0.8      2   0     2       1\n",
              "4     57    0   0       120   354    0  ...      1      0.6      2   0     2       1\n",
              "..   ...  ...  ..       ...   ...  ...  ...    ...      ...    ...  ..   ...     ...\n",
              "298   57    0   0       140   241    0  ...      1      0.2      1   0     3       0\n",
              "299   45    1   3       110   264    0  ...      0      1.2      1   0     3       0\n",
              "300   68    1   0       144   193    1  ...      0      3.4      1   2     3       0\n",
              "301   57    1   0       130   131    0  ...      1      1.2      1   1     3       0\n",
              "302   57    0   1       130   236    0  ...      0      0.0      1   1     2       0\n",
              "\n",
              "[303 rows x 14 columns]"
            ]
          },
          "metadata": {},
          "execution_count": 113
        }
      ]
    },
    {
      "cell_type": "markdown",
      "source": [
        "**Define Target Variable (y) and Feature Variables (X)**"
      ],
      "metadata": {
        "id": "j6Y0DvcbIWcP"
      }
    },
    {
      "cell_type": "code",
      "source": [
        "df.columns"
      ],
      "metadata": {
        "colab": {
          "base_uri": "https://localhost:8080/"
        },
        "id": "esyGzk-T9nG3",
        "outputId": "6de04fa1-983a-46d9-c4c7-2e5c5ba56a90"
      },
      "execution_count": null,
      "outputs": [
        {
          "output_type": "execute_result",
          "data": {
            "text/plain": [
              "Index(['age', 'sex', 'cp', 'trestbps', 'chol', 'fbs', 'restecg', 'thalach',\n",
              "       'exang', 'oldpeak', 'slope', 'ca', 'thal', 'target'],\n",
              "      dtype='object')"
            ]
          },
          "metadata": {},
          "execution_count": 114
        }
      ]
    },
    {
      "cell_type": "code",
      "source": [
        "X = df[['age', 'sex', 'cp', 'trestbps', 'chol', 'fbs', 'restecg', 'thalach',\n",
        "       'exang', 'oldpeak', 'slope', 'ca', 'thal']]"
      ],
      "metadata": {
        "id": "7sL-AlXA9p8Z"
      },
      "execution_count": null,
      "outputs": []
    },
    {
      "cell_type": "code",
      "source": [
        "y = df['target']"
      ],
      "metadata": {
        "id": "q_f030w-9vPL"
      },
      "execution_count": null,
      "outputs": []
    },
    {
      "cell_type": "code",
      "source": [
        "X.shape,y.shape"
      ],
      "metadata": {
        "colab": {
          "base_uri": "https://localhost:8080/"
        },
        "id": "WcZqy17H93OY",
        "outputId": "f5a91c40-5266-4763-fd66-2419b83449ea"
      },
      "execution_count": null,
      "outputs": [
        {
          "output_type": "execute_result",
          "data": {
            "text/plain": [
              "((303, 13), (303,))"
            ]
          },
          "metadata": {},
          "execution_count": 117
        }
      ]
    },
    {
      "cell_type": "markdown",
      "source": [
        "**Data Preprocessing**"
      ],
      "metadata": {
        "id": "tmSJtQt-IeHV"
      }
    },
    {
      "cell_type": "code",
      "source": [
        "from sklearn.preprocessing import StandardScaler"
      ],
      "metadata": {
        "id": "v7EXEbCj96yQ"
      },
      "execution_count": null,
      "outputs": []
    },
    {
      "cell_type": "code",
      "source": [
        "ss = StandardScaler()"
      ],
      "metadata": {
        "id": "-SRExua_-HtN"
      },
      "execution_count": null,
      "outputs": []
    },
    {
      "cell_type": "code",
      "source": [
        "X = ss.fit_transform(X)"
      ],
      "metadata": {
        "id": "eqzAhzrX-KsF"
      },
      "execution_count": null,
      "outputs": []
    },
    {
      "cell_type": "markdown",
      "source": [
        "**Train Test Split**"
      ],
      "metadata": {
        "id": "fnQDhDrxImAk"
      }
    },
    {
      "cell_type": "code",
      "source": [
        "from sklearn.model_selection import train_test_split"
      ],
      "metadata": {
        "id": "7Ce2l718-M7d"
      },
      "execution_count": null,
      "outputs": []
    },
    {
      "cell_type": "code",
      "source": [
        "X_train,X_test,y_train,y_test = train_test_split(X,y,train_size = 0.8, random_state = 2529)"
      ],
      "metadata": {
        "id": "4_LunEH5-PQX"
      },
      "execution_count": null,
      "outputs": []
    },
    {
      "cell_type": "code",
      "source": [
        "X_train.shape,X_test.shape,y_train.shape,y_test.shape"
      ],
      "metadata": {
        "colab": {
          "base_uri": "https://localhost:8080/"
        },
        "id": "gZ6Ne3PH-RQs",
        "outputId": "9124a611-5a32-4c93-cc35-bd0a49d452a0"
      },
      "execution_count": null,
      "outputs": [
        {
          "output_type": "execute_result",
          "data": {
            "text/plain": [
              "((242, 13), (61, 13), (242,), (61,))"
            ]
          },
          "metadata": {},
          "execution_count": 123
        }
      ]
    },
    {
      "cell_type": "markdown",
      "source": [
        "**Model**"
      ],
      "metadata": {
        "id": "XOBLYdw_I35T"
      }
    },
    {
      "cell_type": "code",
      "source": [
        "from keras.models import Sequential"
      ],
      "metadata": {
        "id": "vap4oL8T-TVN"
      },
      "execution_count": null,
      "outputs": []
    },
    {
      "cell_type": "code",
      "source": [
        "from keras.layers import Dense"
      ],
      "metadata": {
        "id": "GUO0UZXl-WBs"
      },
      "execution_count": null,
      "outputs": []
    },
    {
      "cell_type": "code",
      "source": [
        "model = Sequential()"
      ],
      "metadata": {
        "id": "CW7KXf0p-X9K"
      },
      "execution_count": null,
      "outputs": []
    },
    {
      "cell_type": "code",
      "source": [
        "model.add(Dense(14, input_dim = 13, activation = 'relu'))"
      ],
      "metadata": {
        "id": "ReCCtdal-Zzg"
      },
      "execution_count": null,
      "outputs": []
    },
    {
      "cell_type": "code",
      "source": [
        "model.add(Dense(16, activation = 'relu'))"
      ],
      "metadata": {
        "id": "zWInuNWB-gst"
      },
      "execution_count": null,
      "outputs": []
    },
    {
      "cell_type": "code",
      "source": [
        "model.add(Dense(18, activation = 'relu'))"
      ],
      "metadata": {
        "id": "oi7iO6FKPLMJ"
      },
      "execution_count": null,
      "outputs": []
    },
    {
      "cell_type": "code",
      "source": [
        "model.add(Dense(18, activation = 'relu'))"
      ],
      "metadata": {
        "id": "CCJN9gW0-kUa"
      },
      "execution_count": null,
      "outputs": []
    },
    {
      "cell_type": "code",
      "source": [
        "model.add(Dense(1, activation = 'sigmoid'))"
      ],
      "metadata": {
        "id": "mAOKBI_l-nRU"
      },
      "execution_count": null,
      "outputs": []
    },
    {
      "cell_type": "code",
      "source": [
        "model.compile(loss = 'binary_crossentropy', optimizer = 'adam', metrics = ['accuracy'])"
      ],
      "metadata": {
        "id": "cfTIsfNs-qKL"
      },
      "execution_count": null,
      "outputs": []
    },
    {
      "cell_type": "code",
      "source": [
        "model.summary()"
      ],
      "metadata": {
        "colab": {
          "base_uri": "https://localhost:8080/"
        },
        "id": "kswja0FA-u5P",
        "outputId": "3b582e9e-9d42-442d-947f-5f793abdd016"
      },
      "execution_count": null,
      "outputs": [
        {
          "output_type": "stream",
          "name": "stdout",
          "text": [
            "Model: \"sequential_3\"\n",
            "_________________________________________________________________\n",
            " Layer (type)                Output Shape              Param #   \n",
            "=================================================================\n",
            " dense_15 (Dense)            (None, 14)                196       \n",
            "                                                                 \n",
            " dense_16 (Dense)            (None, 16)                240       \n",
            "                                                                 \n",
            " dense_17 (Dense)            (None, 18)                306       \n",
            "                                                                 \n",
            " dense_18 (Dense)            (None, 18)                342       \n",
            "                                                                 \n",
            " dense_19 (Dense)            (None, 1)                 19        \n",
            "                                                                 \n",
            "=================================================================\n",
            "Total params: 1,103\n",
            "Trainable params: 1,103\n",
            "Non-trainable params: 0\n",
            "_________________________________________________________________\n"
          ]
        }
      ]
    },
    {
      "cell_type": "code",
      "source": [
        "model.fit(X_train,y_train,epochs = 100, batch_size = 100)"
      ],
      "metadata": {
        "colab": {
          "base_uri": "https://localhost:8080/"
        },
        "id": "gMn_MYk8-w7_",
        "outputId": "7bd2a628-da64-4817-bdde-0f58e3c20b5c"
      },
      "execution_count": null,
      "outputs": [
        {
          "output_type": "stream",
          "name": "stdout",
          "text": [
            "Epoch 1/100\n",
            "3/3 [==============================] - 0s 10ms/step - loss: 0.1033 - accuracy: 0.9752\n",
            "Epoch 2/100\n",
            "3/3 [==============================] - 0s 13ms/step - loss: 0.1024 - accuracy: 0.9752\n",
            "Epoch 3/100\n",
            "3/3 [==============================] - 0s 10ms/step - loss: 0.1013 - accuracy: 0.9752\n",
            "Epoch 4/100\n",
            "3/3 [==============================] - 0s 8ms/step - loss: 0.1003 - accuracy: 0.9752\n",
            "Epoch 5/100\n",
            "3/3 [==============================] - 0s 7ms/step - loss: 0.0989 - accuracy: 0.9793\n",
            "Epoch 6/100\n",
            "3/3 [==============================] - 0s 11ms/step - loss: 0.0973 - accuracy: 0.9793\n",
            "Epoch 7/100\n",
            "3/3 [==============================] - 0s 18ms/step - loss: 0.0964 - accuracy: 0.9793\n",
            "Epoch 8/100\n",
            "3/3 [==============================] - 0s 17ms/step - loss: 0.0953 - accuracy: 0.9752\n",
            "Epoch 9/100\n",
            "3/3 [==============================] - 0s 10ms/step - loss: 0.0946 - accuracy: 0.9752\n",
            "Epoch 10/100\n",
            "3/3 [==============================] - 0s 10ms/step - loss: 0.0930 - accuracy: 0.9752\n",
            "Epoch 11/100\n",
            "3/3 [==============================] - 0s 11ms/step - loss: 0.0919 - accuracy: 0.9752\n",
            "Epoch 12/100\n",
            "3/3 [==============================] - 0s 7ms/step - loss: 0.0907 - accuracy: 0.9793\n",
            "Epoch 13/100\n",
            "3/3 [==============================] - 0s 9ms/step - loss: 0.0894 - accuracy: 0.9793\n",
            "Epoch 14/100\n",
            "3/3 [==============================] - 0s 8ms/step - loss: 0.0882 - accuracy: 0.9793\n",
            "Epoch 15/100\n",
            "3/3 [==============================] - 0s 8ms/step - loss: 0.0863 - accuracy: 0.9793\n",
            "Epoch 16/100\n",
            "3/3 [==============================] - 0s 10ms/step - loss: 0.0852 - accuracy: 0.9793\n",
            "Epoch 17/100\n",
            "3/3 [==============================] - 0s 10ms/step - loss: 0.0833 - accuracy: 0.9793\n",
            "Epoch 18/100\n",
            "3/3 [==============================] - 0s 7ms/step - loss: 0.0820 - accuracy: 0.9793\n",
            "Epoch 19/100\n",
            "3/3 [==============================] - 0s 8ms/step - loss: 0.0804 - accuracy: 0.9793\n",
            "Epoch 20/100\n",
            "3/3 [==============================] - 0s 8ms/step - loss: 0.0789 - accuracy: 0.9793\n",
            "Epoch 21/100\n",
            "3/3 [==============================] - 0s 7ms/step - loss: 0.0777 - accuracy: 0.9835\n",
            "Epoch 22/100\n",
            "3/3 [==============================] - 0s 11ms/step - loss: 0.0764 - accuracy: 0.9793\n",
            "Epoch 23/100\n",
            "3/3 [==============================] - 0s 10ms/step - loss: 0.0751 - accuracy: 0.9835\n",
            "Epoch 24/100\n",
            "3/3 [==============================] - 0s 14ms/step - loss: 0.0738 - accuracy: 0.9835\n",
            "Epoch 25/100\n",
            "3/3 [==============================] - 0s 10ms/step - loss: 0.0728 - accuracy: 0.9876\n",
            "Epoch 26/100\n",
            "3/3 [==============================] - 0s 8ms/step - loss: 0.0717 - accuracy: 0.9876\n",
            "Epoch 27/100\n",
            "3/3 [==============================] - 0s 18ms/step - loss: 0.0705 - accuracy: 0.9835\n",
            "Epoch 28/100\n",
            "3/3 [==============================] - 0s 10ms/step - loss: 0.0695 - accuracy: 0.9835\n",
            "Epoch 29/100\n",
            "3/3 [==============================] - 0s 20ms/step - loss: 0.0686 - accuracy: 0.9835\n",
            "Epoch 30/100\n",
            "3/3 [==============================] - 0s 11ms/step - loss: 0.0678 - accuracy: 0.9835\n",
            "Epoch 31/100\n",
            "3/3 [==============================] - 0s 14ms/step - loss: 0.0665 - accuracy: 0.9876\n",
            "Epoch 32/100\n",
            "3/3 [==============================] - 0s 16ms/step - loss: 0.0656 - accuracy: 0.9876\n",
            "Epoch 33/100\n",
            "3/3 [==============================] - 0s 12ms/step - loss: 0.0645 - accuracy: 0.9876\n",
            "Epoch 34/100\n",
            "3/3 [==============================] - 0s 16ms/step - loss: 0.0637 - accuracy: 0.9876\n",
            "Epoch 35/100\n",
            "3/3 [==============================] - 0s 19ms/step - loss: 0.0627 - accuracy: 0.9876\n",
            "Epoch 36/100\n",
            "3/3 [==============================] - 0s 12ms/step - loss: 0.0619 - accuracy: 0.9876\n",
            "Epoch 37/100\n",
            "3/3 [==============================] - 0s 17ms/step - loss: 0.0611 - accuracy: 0.9876\n",
            "Epoch 38/100\n",
            "3/3 [==============================] - 0s 13ms/step - loss: 0.0600 - accuracy: 0.9876\n",
            "Epoch 39/100\n",
            "3/3 [==============================] - 0s 9ms/step - loss: 0.0592 - accuracy: 0.9876\n",
            "Epoch 40/100\n",
            "3/3 [==============================] - 0s 9ms/step - loss: 0.0584 - accuracy: 0.9876\n",
            "Epoch 41/100\n",
            "3/3 [==============================] - 0s 11ms/step - loss: 0.0575 - accuracy: 0.9876\n",
            "Epoch 42/100\n",
            "3/3 [==============================] - 0s 9ms/step - loss: 0.0566 - accuracy: 0.9876\n",
            "Epoch 43/100\n",
            "3/3 [==============================] - 0s 10ms/step - loss: 0.0557 - accuracy: 0.9876\n",
            "Epoch 44/100\n",
            "3/3 [==============================] - 0s 16ms/step - loss: 0.0550 - accuracy: 0.9876\n",
            "Epoch 45/100\n",
            "3/3 [==============================] - 0s 9ms/step - loss: 0.0542 - accuracy: 0.9917\n",
            "Epoch 46/100\n",
            "3/3 [==============================] - 0s 11ms/step - loss: 0.0533 - accuracy: 0.9917\n",
            "Epoch 47/100\n",
            "3/3 [==============================] - 0s 17ms/step - loss: 0.0526 - accuracy: 0.9917\n",
            "Epoch 48/100\n",
            "3/3 [==============================] - 0s 8ms/step - loss: 0.0517 - accuracy: 0.9917\n",
            "Epoch 49/100\n",
            "3/3 [==============================] - 0s 7ms/step - loss: 0.0509 - accuracy: 0.9917\n",
            "Epoch 50/100\n",
            "3/3 [==============================] - 0s 8ms/step - loss: 0.0500 - accuracy: 0.9917\n",
            "Epoch 51/100\n",
            "3/3 [==============================] - 0s 13ms/step - loss: 0.0495 - accuracy: 0.9917\n",
            "Epoch 52/100\n",
            "3/3 [==============================] - 0s 16ms/step - loss: 0.0487 - accuracy: 0.9917\n",
            "Epoch 53/100\n",
            "3/3 [==============================] - 0s 13ms/step - loss: 0.0483 - accuracy: 0.9917\n",
            "Epoch 54/100\n",
            "3/3 [==============================] - 0s 14ms/step - loss: 0.0475 - accuracy: 0.9959\n",
            "Epoch 55/100\n",
            "3/3 [==============================] - 0s 13ms/step - loss: 0.0469 - accuracy: 0.9917\n",
            "Epoch 56/100\n",
            "3/3 [==============================] - 0s 8ms/step - loss: 0.0466 - accuracy: 0.9917\n",
            "Epoch 57/100\n",
            "3/3 [==============================] - 0s 11ms/step - loss: 0.0458 - accuracy: 0.9917\n",
            "Epoch 58/100\n",
            "3/3 [==============================] - 0s 10ms/step - loss: 0.0449 - accuracy: 0.9917\n",
            "Epoch 59/100\n",
            "3/3 [==============================] - 0s 15ms/step - loss: 0.0445 - accuracy: 0.9959\n",
            "Epoch 60/100\n",
            "3/3 [==============================] - 0s 13ms/step - loss: 0.0440 - accuracy: 0.9959\n",
            "Epoch 61/100\n",
            "3/3 [==============================] - 0s 15ms/step - loss: 0.0431 - accuracy: 0.9959\n",
            "Epoch 62/100\n",
            "3/3 [==============================] - 0s 17ms/step - loss: 0.0425 - accuracy: 0.9959\n",
            "Epoch 63/100\n",
            "3/3 [==============================] - 0s 10ms/step - loss: 0.0418 - accuracy: 0.9959\n",
            "Epoch 64/100\n",
            "3/3 [==============================] - 0s 10ms/step - loss: 0.0416 - accuracy: 0.9959\n",
            "Epoch 65/100\n",
            "3/3 [==============================] - 0s 10ms/step - loss: 0.0410 - accuracy: 0.9959\n",
            "Epoch 66/100\n",
            "3/3 [==============================] - 0s 11ms/step - loss: 0.0401 - accuracy: 0.9959\n",
            "Epoch 67/100\n",
            "3/3 [==============================] - 0s 9ms/step - loss: 0.0399 - accuracy: 0.9959\n",
            "Epoch 68/100\n",
            "3/3 [==============================] - 0s 7ms/step - loss: 0.0390 - accuracy: 0.9959\n",
            "Epoch 69/100\n",
            "3/3 [==============================] - 0s 8ms/step - loss: 0.0385 - accuracy: 0.9959\n",
            "Epoch 70/100\n",
            "3/3 [==============================] - 0s 12ms/step - loss: 0.0380 - accuracy: 0.9959\n",
            "Epoch 71/100\n",
            "3/3 [==============================] - 0s 11ms/step - loss: 0.0375 - accuracy: 0.9959\n",
            "Epoch 72/100\n",
            "3/3 [==============================] - 0s 8ms/step - loss: 0.0371 - accuracy: 0.9959\n",
            "Epoch 73/100\n",
            "3/3 [==============================] - 0s 7ms/step - loss: 0.0366 - accuracy: 0.9959\n",
            "Epoch 74/100\n",
            "3/3 [==============================] - 0s 8ms/step - loss: 0.0361 - accuracy: 0.9959\n",
            "Epoch 75/100\n",
            "3/3 [==============================] - 0s 13ms/step - loss: 0.0357 - accuracy: 0.9959\n",
            "Epoch 76/100\n",
            "3/3 [==============================] - 0s 14ms/step - loss: 0.0352 - accuracy: 0.9959\n",
            "Epoch 77/100\n",
            "3/3 [==============================] - 0s 20ms/step - loss: 0.0348 - accuracy: 0.9959\n",
            "Epoch 78/100\n",
            "3/3 [==============================] - 0s 8ms/step - loss: 0.0344 - accuracy: 0.9959\n",
            "Epoch 79/100\n",
            "3/3 [==============================] - 0s 7ms/step - loss: 0.0339 - accuracy: 0.9959\n",
            "Epoch 80/100\n",
            "3/3 [==============================] - 0s 11ms/step - loss: 0.0336 - accuracy: 0.9959\n",
            "Epoch 81/100\n",
            "3/3 [==============================] - 0s 9ms/step - loss: 0.0332 - accuracy: 0.9959\n",
            "Epoch 82/100\n",
            "3/3 [==============================] - 0s 9ms/step - loss: 0.0328 - accuracy: 0.9959\n",
            "Epoch 83/100\n",
            "3/3 [==============================] - 0s 8ms/step - loss: 0.0325 - accuracy: 0.9959\n",
            "Epoch 84/100\n",
            "3/3 [==============================] - 0s 11ms/step - loss: 0.0322 - accuracy: 0.9959\n",
            "Epoch 85/100\n",
            "3/3 [==============================] - 0s 14ms/step - loss: 0.0318 - accuracy: 0.9959\n",
            "Epoch 86/100\n",
            "3/3 [==============================] - 0s 7ms/step - loss: 0.0313 - accuracy: 0.9959\n",
            "Epoch 87/100\n",
            "3/3 [==============================] - 0s 13ms/step - loss: 0.0310 - accuracy: 0.9959\n",
            "Epoch 88/100\n",
            "3/3 [==============================] - 0s 16ms/step - loss: 0.0306 - accuracy: 0.9959\n",
            "Epoch 89/100\n",
            "3/3 [==============================] - 0s 14ms/step - loss: 0.0302 - accuracy: 0.9959\n",
            "Epoch 90/100\n",
            "3/3 [==============================] - 0s 10ms/step - loss: 0.0299 - accuracy: 0.9959\n",
            "Epoch 91/100\n",
            "3/3 [==============================] - 0s 7ms/step - loss: 0.0296 - accuracy: 0.9959\n",
            "Epoch 92/100\n",
            "3/3 [==============================] - 0s 8ms/step - loss: 0.0292 - accuracy: 0.9959\n",
            "Epoch 93/100\n",
            "3/3 [==============================] - 0s 8ms/step - loss: 0.0289 - accuracy: 0.9959\n",
            "Epoch 94/100\n",
            "3/3 [==============================] - 0s 11ms/step - loss: 0.0286 - accuracy: 0.9959\n",
            "Epoch 95/100\n",
            "3/3 [==============================] - 0s 11ms/step - loss: 0.0284 - accuracy: 0.9959\n",
            "Epoch 96/100\n",
            "3/3 [==============================] - 0s 9ms/step - loss: 0.0280 - accuracy: 0.9959\n",
            "Epoch 97/100\n",
            "3/3 [==============================] - 0s 13ms/step - loss: 0.0276 - accuracy: 0.9959\n",
            "Epoch 98/100\n",
            "3/3 [==============================] - 0s 12ms/step - loss: 0.0275 - accuracy: 0.9959\n",
            "Epoch 99/100\n",
            "3/3 [==============================] - 0s 14ms/step - loss: 0.0272 - accuracy: 0.9959\n",
            "Epoch 100/100\n",
            "3/3 [==============================] - 0s 10ms/step - loss: 0.0268 - accuracy: 0.9959\n"
          ]
        },
        {
          "output_type": "execute_result",
          "data": {
            "text/plain": [
              "<keras.callbacks.History at 0x7f420f96a050>"
            ]
          },
          "metadata": {},
          "execution_count": 139
        }
      ]
    },
    {
      "cell_type": "markdown",
      "source": [
        "**Model Evaluation**"
      ],
      "metadata": {
        "id": "-TfOFKnRI-UG"
      }
    },
    {
      "cell_type": "code",
      "source": [
        "score = model.evaluate(X_test,y_test,verbose = 0)\n",
        "print(score)"
      ],
      "metadata": {
        "colab": {
          "base_uri": "https://localhost:8080/"
        },
        "id": "fPPtB-MQ-za7",
        "outputId": "abd7cb76-c6b5-48c5-fd4f-7338b7268d59"
      },
      "execution_count": null,
      "outputs": [
        {
          "output_type": "stream",
          "name": "stdout",
          "text": [
            "[1.1872260570526123, 0.8360655903816223]\n"
          ]
        }
      ]
    },
    {
      "cell_type": "markdown",
      "source": [
        "**Prediction**"
      ],
      "metadata": {
        "id": "FsFNCjqdJFNk"
      }
    },
    {
      "cell_type": "code",
      "source": [
        "y_pred = model.predict(X_test)\n"
      ],
      "metadata": {
        "id": "KM8ei87w_UIG"
      },
      "execution_count": null,
      "outputs": []
    },
    {
      "cell_type": "code",
      "source": [
        "y_pred = (y_pred > 0.5)\n",
        "print(y_pred)"
      ],
      "metadata": {
        "colab": {
          "base_uri": "https://localhost:8080/"
        },
        "id": "Dv2OFKVvAC3v",
        "outputId": "d19b3edd-1cd8-458c-cba0-e10393b14cb9"
      },
      "execution_count": null,
      "outputs": [
        {
          "output_type": "stream",
          "name": "stdout",
          "text": [
            "[[False]\n",
            " [False]\n",
            " [False]\n",
            " [False]\n",
            " [ True]\n",
            " [ True]\n",
            " [ True]\n",
            " [ True]\n",
            " [False]\n",
            " [ True]\n",
            " [ True]\n",
            " [ True]\n",
            " [ True]\n",
            " [ True]\n",
            " [ True]\n",
            " [False]\n",
            " [ True]\n",
            " [False]\n",
            " [ True]\n",
            " [ True]\n",
            " [ True]\n",
            " [False]\n",
            " [False]\n",
            " [False]\n",
            " [ True]\n",
            " [False]\n",
            " [False]\n",
            " [False]\n",
            " [ True]\n",
            " [False]\n",
            " [ True]\n",
            " [False]\n",
            " [ True]\n",
            " [ True]\n",
            " [ True]\n",
            " [ True]\n",
            " [False]\n",
            " [ True]\n",
            " [False]\n",
            " [ True]\n",
            " [ True]\n",
            " [ True]\n",
            " [ True]\n",
            " [ True]\n",
            " [ True]\n",
            " [False]\n",
            " [False]\n",
            " [False]\n",
            " [ True]\n",
            " [False]\n",
            " [ True]\n",
            " [False]\n",
            " [ True]\n",
            " [False]\n",
            " [False]\n",
            " [ True]\n",
            " [ True]\n",
            " [False]\n",
            " [ True]\n",
            " [False]\n",
            " [ True]]\n"
          ]
        }
      ]
    },
    {
      "cell_type": "code",
      "source": [
        "from sklearn.metrics import confusion_matrix, classification_report\n",
        "confusion_matrix(y_test, y_pred)"
      ],
      "metadata": {
        "colab": {
          "base_uri": "https://localhost:8080/"
        },
        "id": "8AzDbYlGAEax",
        "outputId": "3e59e5a4-6341-4019-a97a-590eb83dbadc"
      },
      "execution_count": null,
      "outputs": [
        {
          "output_type": "execute_result",
          "data": {
            "text/plain": [
              "array([[20,  4],\n",
              "       [ 6, 31]])"
            ]
          },
          "metadata": {},
          "execution_count": 143
        }
      ]
    },
    {
      "cell_type": "code",
      "source": [
        "print(classification_report(y_test,y_pred))"
      ],
      "metadata": {
        "colab": {
          "base_uri": "https://localhost:8080/"
        },
        "id": "dDJz7NcaAxkJ",
        "outputId": "af2d2a84-360b-42e7-bd0d-725646492679"
      },
      "execution_count": null,
      "outputs": [
        {
          "output_type": "stream",
          "name": "stdout",
          "text": [
            "              precision    recall  f1-score   support\n",
            "\n",
            "           0       0.77      0.83      0.80        24\n",
            "           1       0.89      0.84      0.86        37\n",
            "\n",
            "    accuracy                           0.84        61\n",
            "   macro avg       0.83      0.84      0.83        61\n",
            "weighted avg       0.84      0.84      0.84        61\n",
            "\n"
          ]
        }
      ]
    },
    {
      "cell_type": "code",
      "source": [
        "from sklearn.metrics import mean_absolute_error"
      ],
      "metadata": {
        "id": "4BkhBHyiA5cg"
      },
      "execution_count": null,
      "outputs": []
    },
    {
      "cell_type": "code",
      "source": [
        "mean_absolute_error(y_test,y_pred)"
      ],
      "metadata": {
        "colab": {
          "base_uri": "https://localhost:8080/"
        },
        "id": "xpPVtuyVBG-5",
        "outputId": "05a3fc36-dedc-47ec-d587-bbc854372201"
      },
      "execution_count": null,
      "outputs": [
        {
          "output_type": "execute_result",
          "data": {
            "text/plain": [
              "0.16393442622950818"
            ]
          },
          "metadata": {},
          "execution_count": 146
        }
      ]
    },
    {
      "cell_type": "markdown",
      "source": [
        "**Explaination**"
      ],
      "metadata": {
        "id": "V2aaoFnfJkOl"
      }
    },
    {
      "cell_type": "markdown",
      "source": [
        "Heart disease is one of the biggest causes of morbidity and mortality among the population of the world. Prediction of cardiovascular disease is regarded as one of the most important subjects in the section of clinical data analysis"
      ],
      "metadata": {
        "id": "e42kiXLAJ40X"
      }
    },
    {
      "cell_type": "markdown",
      "source": [
        "According to a news article, heart disease proves to be the leading cause of death for both women and men."
      ],
      "metadata": {
        "id": "sCdD3MKiKBjM"
      }
    },
    {
      "cell_type": "markdown",
      "source": [
        "This makes heart disease a major concern to be dealt with. But it is difficult to identify heart disease because of several contributory risk factors such as diabetes, high blood pressure, high cholesterol, abnormal pulse rate, and many other factors"
      ],
      "metadata": {
        "id": "VRS7nBX9KDZh"
      }
    },
    {
      "cell_type": "markdown",
      "source": [
        "Machine learning (ML) and Deep Learing (DL) proves to be effective in assisting in making decisions and predictions from the large quantity of data produced by the healthcare industry."
      ],
      "metadata": {
        "id": "Pdf0Za5SKKMh"
      }
    },
    {
      "cell_type": "markdown",
      "source": [
        "So here I have tried to make a model which can predict the disease based upon some attributes as follows:"
      ],
      "metadata": {
        "id": "V__rJxyKN2x9"
      }
    },
    {
      "cell_type": "markdown",
      "source": [
        "\n",
        "\n",
        "1.   Age: displays the age of the individual.\n",
        "2.   Sex: displays the gender of the individual using the following format :\n",
        "\n",
        "\n",
        "*   1 = male\n",
        "*   0 = female\n",
        "\n",
        "3.   Chest-pain type: displays the type of chest-pain experienced by the individual using the following format :\n",
        "* 1 = typical angina\n",
        "* 2 = atypical angina\n",
        "* 3 = non — anginal pain\n",
        "* 4 = asymptotic\n",
        "4.   Resting Blood Pressure: displays the resting blood pressure value of an individual in mmHg (unit)\n",
        "5.   Serum Cholestrol: displays the serum cholesterol in mg/dl (unit)\n",
        "6.   Fasting Blood Sugar: compares the fasting blood sugar value of an individual with 120mg/dl.\n",
        "* If fasting blood sugar > 120mg/dl then : 1 (true)\n",
        "* else : 0 (false)\n",
        "7.   Resting ECG : displays resting electrocardiographic results\n",
        "* 0 = normal\n",
        "* 1 = having ST-T wave abnormality\n",
        "* 2 = left ventricular hyperthrophy\n",
        "8.   Max heart rate achieved : displays the max heart rate achieved by an individual.\n",
        "9.    Exercise induced angina :\n",
        "* 1 = yes\n",
        "* 0 = no\n",
        "10.   ST depression induced by exercise relative to rest: displays the value which is an integer or float.\n",
        "11.   Peak exercise ST segment :\n",
        "* 1 = upsloping\n",
        "* 2 = flat\n",
        "* 3 = downsloping\n",
        "12.   Number of major vessels (0–3) colored by flourosopy : displays the value as integer or float.\n",
        "13.   Thal : displays the thalassemia :\n",
        "* 3 = normal\n",
        "* 6 = fixed defect\n",
        "* 7 = reversible defect\n",
        "14.  Diagnosis of heart disease : Displays whether the individual is suffering from heart disease or not :\n",
        "* 0 = absence\n",
        "* 1, 2, 3, 4 = present."
      ],
      "metadata": {
        "id": "pjckmozOLXFl"
      }
    },
    {
      "cell_type": "markdown",
      "source": [
        "The model is made using the Artificial Neural Network "
      ],
      "metadata": {
        "id": "9T1bTiQSOOBX"
      }
    },
    {
      "cell_type": "markdown",
      "source": [
        "Knowledge of this ANN is obtained from Dr. Alok Yadav sir and it was the very good time learing all about ML and DL from Alok sir\n",
        "Thanks for his Guidence "
      ],
      "metadata": {
        "id": "BUMdDs4yOffr"
      }
    }
  ]
}